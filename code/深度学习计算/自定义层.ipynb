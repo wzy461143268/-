{
 "cells": [
  {
   "cell_type": "code",
   "execution_count": 1,
   "metadata": {},
   "outputs": [],
   "source": [
    "import torch\n",
    "from torch import nn"
   ]
  },
  {
   "cell_type": "code",
   "execution_count": 2,
   "metadata": {},
   "outputs": [],
   "source": [
    "class centeredLayer(nn.Module):\n",
    "    def __init__(self) -> None:\n",
    "        super().__init__()\n",
    "    \n",
    "    def forward(self, x):\n",
    "        return x - x.mean()"
   ]
  },
  {
   "cell_type": "code",
   "execution_count": 17,
   "metadata": {},
   "outputs": [],
   "source": [
    "X= torch.arange(1, 6, dtype= torch.float32)\n",
    "net= centeredLayer()\n",
    "Y= net(X)"
   ]
  },
  {
   "cell_type": "code",
   "execution_count": 18,
   "metadata": {},
   "outputs": [
    {
     "data": {
      "text/plain": [
       "tensor([-2., -1.,  0.,  1.,  2.])"
      ]
     },
     "execution_count": 18,
     "metadata": {},
     "output_type": "execute_result"
    }
   ],
   "source": [
    "Y"
   ]
  },
  {
   "cell_type": "code",
   "execution_count": 22,
   "metadata": {},
   "outputs": [],
   "source": [
    "class MyEquation(nn.Module):\n",
    "    def __init__(self) -> None:\n",
    "        super().__init__()\n",
    "    \n",
    "    def forward(self, x,y):\n",
    "        return 2**x-3**y"
   ]
  },
  {
   "cell_type": "code",
   "execution_count": 25,
   "metadata": {},
   "outputs": [
    {
     "data": {
      "text/plain": [
       "tensor([-1.0000e+00, -5.0000e+00, -1.9000e+01, -6.5000e+01, -2.1100e+02,\n",
       "        -6.6500e+02, -2.0590e+03, -6.3050e+03, -1.9171e+04, -5.8025e+04,\n",
       "        -1.7510e+05, -5.2734e+05, -1.5861e+06, -4.7666e+06, -1.4316e+07,\n",
       "        -4.2981e+07, -1.2901e+08, -3.8716e+08, -1.1617e+09, -3.4857e+09,\n",
       "        -1.0458e+10, -3.1377e+10, -9.4135e+10, -2.8241e+11, -8.4726e+11,\n",
       "        -2.5418e+12, -7.6255e+12, -2.2877e+13, -6.8630e+13, -2.0589e+14,\n",
       "        -6.1767e+14, -1.8530e+15, -5.5591e+15, -1.6677e+16, -5.0032e+16,\n",
       "        -1.5009e+17, -4.5028e+17, -1.3509e+18, -4.0526e+18, -1.2158e+19,\n",
       "        -3.6473e+19, -1.0942e+20, -3.2826e+20, -9.8477e+20, -2.9543e+21,\n",
       "        -8.8629e+21, -2.6589e+22, -7.9766e+22, -2.3930e+23, -7.1790e+23,\n",
       "        -2.1537e+24, -6.4611e+24, -1.9383e+25, -5.8150e+25, -1.7445e+26,\n",
       "        -5.2335e+26, -1.5700e+27, -4.7101e+27, -1.4130e+28, -4.2391e+28,\n",
       "        -1.2717e+29, -3.8152e+29, -1.1446e+30, -3.4337e+30, -1.0301e+31,\n",
       "        -3.0903e+31, -9.2709e+31, -2.7813e+32, -8.3439e+32, -2.5032e+33,\n",
       "        -7.5095e+33, -2.2528e+34, -6.7585e+34, -2.0276e+35, -6.0827e+35,\n",
       "        -1.8248e+36, -5.4744e+36, -1.6423e+37, -4.9270e+37, -1.4781e+38,\n",
       "        -4.4343e+38, -1.3303e+39, -3.9908e+39, -1.1973e+40, -3.5918e+40,\n",
       "        -1.0775e+41, -3.2326e+41, -9.6977e+41, -2.9093e+42, -8.7280e+42,\n",
       "        -2.6184e+43, -7.8552e+43, -2.3566e+44, -7.0697e+44, -2.1209e+45,\n",
       "        -6.3627e+45, -1.9088e+46, -5.7264e+46, -1.7179e+47],\n",
       "       dtype=torch.float64)"
      ]
     },
     "execution_count": 25,
     "metadata": {},
     "output_type": "execute_result"
    }
   ],
   "source": [
    "x= torch.arange(1, 100, dtype= torch.float64)\n",
    "y= torch.arange(1, 100, dtype= torch.float64)\n",
    "z= MyEquation()(x,y)\n",
    "z"
   ]
  }
 ],
 "metadata": {
  "kernelspec": {
   "display_name": "d2l",
   "language": "python",
   "name": "python3"
  },
  "language_info": {
   "codemirror_mode": {
    "name": "ipython",
    "version": 3
   },
   "file_extension": ".py",
   "mimetype": "text/x-python",
   "name": "python",
   "nbconvert_exporter": "python",
   "pygments_lexer": "ipython3",
   "version": "3.9.15 (main, Nov 24 2022, 14:39:17) [MSC v.1916 64 bit (AMD64)]"
  },
  "orig_nbformat": 4,
  "vscode": {
   "interpreter": {
    "hash": "e42b3c1f722b9bb018c9dca96aaec4c9f3c8576d5ce320631cd3544db57982fb"
   }
  }
 },
 "nbformat": 4,
 "nbformat_minor": 2
}
