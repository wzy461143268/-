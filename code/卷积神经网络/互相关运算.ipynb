{
 "cells": [
  {
   "cell_type": "code",
   "execution_count": 2,
   "metadata": {},
   "outputs": [],
   "source": [
    "import torch\n",
    "from torch import nn\n",
    "from d2l import torch as d2l\n",
    "\n",
    "def corr2d(X, K):  #@save\n",
    "    \"\"\"计算二维互相关运算\"\"\"\n",
    "    h, w = K.shape\n",
    "    Y = torch.zeros((X.shape[0] - h + 1, X.shape[1] - w + 1)) #（X.height - K.height + 1, X.width - K.width + 1）输出的高和宽\n",
    "    for i in range(Y.shape[0]): #遍历输出的高\n",
    "        for j in range(Y.shape[1]):\n",
    "            Y[i, j] = (X[i:i + h, j:j + w] * K).sum()\n",
    "    return Y #从上到下，从左到右逐一计算"
   ]
  },
  {
   "cell_type": "code",
   "execution_count": 3,
   "metadata": {},
   "outputs": [
    {
     "data": {
      "text/plain": [
       "tensor([[19., 25.],\n",
       "        [37., 43.]])"
      ]
     },
     "execution_count": 3,
     "metadata": {},
     "output_type": "execute_result"
    }
   ],
   "source": [
    "X = torch.tensor([[0.0, 1.0, 2.0], [3.0, 4.0, 5.0], [6.0, 7.0, 8.0]])\n",
    "K = torch.tensor([[0.0, 1.0], [2.0, 3.0]])\n",
    "corr2d(X, K)"
   ]
  },
  {
   "cell_type": "code",
   "execution_count": 4,
   "metadata": {},
   "outputs": [],
   "source": [
    "conv2d = nn.Conv2d(1,1, kernel_size=(1, 2), bias=False)\n",
    "conv2d.weight.data = K.reshape(1, 1, 2, 2) #卷积核的高，宽，通道数\n",
    "Y = conv2d(X.reshape(1, 1, 3, 3)) #输入的高，宽，通道数"
   ]
  },
  {
   "cell_type": "code",
   "execution_count": 5,
   "metadata": {},
   "outputs": [
    {
     "name": "stdout",
     "output_type": "stream",
     "text": [
      "tensor([[[[19., 25.],\n",
      "          [37., 43.]]]], grad_fn=<ConvolutionBackward0>)\n"
     ]
    }
   ],
   "source": [
    "print(Y)"
   ]
  },
  {
   "cell_type": "code",
   "execution_count": 7,
   "metadata": {},
   "outputs": [],
   "source": [
    "# stride padding\n",
    "def comp_conv2d(conv2d, X):\n",
    "    X = X.reshape((1, 1) + X.shape) #（批量大小，通道数，高，宽）\n",
    "    Y = conv2d(X)\n",
    "    return Y.reshape(Y.shape[2:]) #（高，宽）"
   ]
  },
  {
   "cell_type": "code",
   "execution_count": 19,
   "metadata": {},
   "outputs": [],
   "source": [
    "X=torch.rand(size=(8, 8))\n",
    "conv2d = nn.Conv2d(1, 1, kernel_size=(3, 5), padding=(0, 1), stride=(3, 4))\n",
    "Y=comp_conv2d(conv2d, X)"
   ]
  },
  {
   "cell_type": "code",
   "execution_count": 20,
   "metadata": {},
   "outputs": [
    {
     "name": "stdout",
     "output_type": "stream",
     "text": [
      "tensor([[0.4886, 0.9322, 0.7167, 0.9859, 0.3362, 0.4980, 0.0841, 0.2530],\n",
      "        [0.9710, 0.5888, 0.8921, 0.4683, 0.0407, 0.3727, 0.1005, 0.5852],\n",
      "        [0.4181, 0.7822, 0.0849, 0.9169, 0.4085, 0.3835, 0.9782, 0.9514],\n",
      "        [0.5929, 0.2444, 0.3885, 0.6394, 0.0654, 0.6565, 0.9735, 0.9859],\n",
      "        [0.1376, 0.8296, 0.4578, 0.5740, 0.8749, 0.1076, 0.4331, 0.9350],\n",
      "        [0.5475, 0.2869, 0.8886, 0.6267, 0.1306, 0.0289, 0.9106, 0.6675],\n",
      "        [0.0622, 0.8005, 0.9999, 0.2144, 0.8292, 0.4676, 0.0227, 0.6951],\n",
      "        [0.2728, 0.0349, 0.9928, 0.1783, 0.7515, 0.5426, 0.7423, 0.3603]])\n",
      "tensor([[ 0.1945, -0.0754],\n",
      "        [ 0.0813, -0.0431]], grad_fn=<ReshapeAliasBackward0>)\n"
     ]
    }
   ],
   "source": [
    "print(X)\n",
    "print(Y)"
   ]
  }
 ],
 "metadata": {
  "kernelspec": {
   "display_name": "Python 3",
   "language": "python",
   "name": "python3"
  },
  "language_info": {
   "codemirror_mode": {
    "name": "ipython",
    "version": 3
   },
   "file_extension": ".py",
   "mimetype": "text/x-python",
   "name": "python",
   "nbconvert_exporter": "python",
   "pygments_lexer": "ipython3",
   "version": "3.11.3"
  },
  "orig_nbformat": 4
 },
 "nbformat": 4,
 "nbformat_minor": 2
}
