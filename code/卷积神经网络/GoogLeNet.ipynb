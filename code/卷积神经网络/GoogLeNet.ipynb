{
 "cells": [
  {
   "cell_type": "code",
   "execution_count": 2,
   "metadata": {},
   "outputs": [],
   "source": [
    "import torch\n",
    "import torch.nn as nn"
   ]
  },
  {
   "cell_type": "code",
   "execution_count": 3,
   "metadata": {},
   "outputs": [],
   "source": [
    "class Inception(nn.Module):\n",
    "    def __init__(self, in_channels, c1, c2, c3, c4, **kwargs):\n",
    "        super(Inception, self).__init__(**kwargs)\n",
    "        self.p1=nn.Conv2d(in_channels, c1, kernel_size=1)\n",
    "        self.p2=nn.Sequential(nn.Conv2d(in_channels, c2[0], kernel_size=1),nn.Conv2d(c2[0], c2[1], kernel_size=3, padding=1))\n",
    "        self.p3=nn.Sequential(nn.Conv2d(in_channels, c3[0], kernel_size=1),nn.Conv2d(c3[0], c3[1], kernel_size=5, padding=2))\n",
    "        self.p4=nn.Sequential(nn.MaxPool2d(kernel_size=3, stride=1, padding=1),nn.Conv2d(in_channels, c4, kernel_size=1))\n",
    "        \n",
    "    def forward(self, x):\n",
    "        p1=self.p1(x)\n",
    "        p2=self.p2(x)\n",
    "        p3=self.p3(x)\n",
    "        p4=self.p4(x)\n",
    "        return torch.cat((p1, p2, p3, p4), dim=1)"
   ]
  },
  {
   "cell_type": "code",
   "execution_count": 4,
   "metadata": {},
   "outputs": [],
   "source": [
    "class GoogLeNet(nn.Sequential):\n",
    "    def __init__(self, *args, **kwargs) -> None:\n",
    "        super().__init__(*args, **kwargs)\n",
    "        self.b1=nn.Sequential(nn.Conv2d(1, 64, kernel_size=7, stride=2, padding=3),nn.ReLU(),nn.MaxPool2d(kernel_size=3, stride=2, padding=1))\n",
    "        # 7x7 conv,3x3 maxpool,\n",
    "        self.b2=nn.Sequential(nn.Conv2d(64, 64, kernel_size=1),nn.Conv2d(64, 192, kernel_size=3, padding=1),nn.MaxPool2d(kernel_size=3, stride=2, padding=1))\n",
    "        # 1x1 conv,3x3 conv,3x3 maxpool\n",
    "        self.b3=nn.Sequential(\n",
    "            Inception(192, 64, (96, 128), (16, 32), 32),\n",
    "            Inception(256, 128, (128, 192), (32, 96), 64),\n",
    "            nn.MaxPool2d(kernel_size=3, stride=2, padding=1)\n",
    "            )\n",
    "        # inception, inception, 3x3 maxpool\n",
    "        self.b4=nn.Sequential(\n",
    "            Inception(480, 192, (96, 208), (16, 48), 64),\n",
    "            Inception(512, 160, (112, 224), (24, 64), 64),\n",
    "            Inception(512, 128, (128, 256), (24, 64), 64),\n",
    "            Inception(512, 112, (144, 288), (32, 64), 64),\n",
    "            Inception(528, 256, (160, 320), (32, 128), 128),\n",
    "            nn.MaxPool2d(kernel_size=3, stride=2, padding=1)\n",
    "            )\n",
    "        self.b5=nn.Sequential(\n",
    "            Inception(832, 256, (160, 320), (32, 128), 128),\n",
    "            Inception(832, 384, (192, 384), (48, 128), 128),\n",
    "            nn.AdaptiveAvgPool2d((1, 1)),\n",
    "            nn.Flatten()\n",
    "            )\n",
    "    \n",
    "    def forward(self, x):\n",
    "        x=self.b1(x)\n",
    "        x=self.b2(x)\n",
    "        x=self.b3(x)\n",
    "        x=self.b4(x)\n",
    "        x=self.b5(x)\n",
    "        return x"
   ]
  },
  {
   "cell_type": "code",
   "execution_count": 5,
   "metadata": {},
   "outputs": [
    {
     "name": "stdout",
     "output_type": "stream",
     "text": [
      "Sequential output shape:\t torch.Size([1, 64, 24, 24])\n",
      "Sequential output shape:\t torch.Size([1, 192, 12, 12])\n",
      "Sequential output shape:\t torch.Size([1, 480, 6, 6])\n",
      "Sequential output shape:\t torch.Size([1, 832, 3, 3])\n",
      "Sequential output shape:\t torch.Size([1, 1024])\n"
     ]
    }
   ],
   "source": [
    "net=GoogLeNet()\n",
    "X = torch.rand(size=(1, 1, 96, 96))\n",
    "for layer in net:\n",
    "    X = layer(X)\n",
    "    print(layer.__class__.__name__,'output shape:\\t', X.shape)"
   ]
  },
  {
   "cell_type": "code",
   "execution_count": 6,
   "metadata": {},
   "outputs": [],
   "source": [
    "import torchvision.datasets\n",
    "import torchvision.transforms as transforms\n",
    "data=torchvision.datasets.FashionMNIST(root='data', train=True, transform=transforms.ToTensor())\n",
    "train_set,test_set=torch.utils.data.random_split(data,[50000,10000])\n",
    "train_data=torch.utils.data.DataLoader(train_set,batch_size=128,shuffle=True)\n",
    "test_data=torch.utils.data.DataLoader(test_set,batch_size=128,shuffle=True)\n",
    "del data,train_set,test_set"
   ]
  },
  {
   "cell_type": "code",
   "execution_count": 7,
   "metadata": {},
   "outputs": [
    {
     "ename": "AttributeError",
     "evalue": "'DataLoader' object has no attribute 'cuda'",
     "output_type": "error",
     "traceback": [
      "\u001b[0;31m---------------------------------------------------------------------------\u001b[0m",
      "\u001b[0;31mAttributeError\u001b[0m                            Traceback (most recent call last)",
      "Cell \u001b[0;32mIn[7], line 21\u001b[0m\n\u001b[1;32m     19\u001b[0m loss\u001b[39m=\u001b[39mnn\u001b[39m.\u001b[39mCrossEntropyLoss()\n\u001b[1;32m     20\u001b[0m optimizer\u001b[39m=\u001b[39mtorch\u001b[39m.\u001b[39moptim\u001b[39m.\u001b[39mAdam(net\u001b[39m.\u001b[39mparameters(),lr\u001b[39m=\u001b[39m\u001b[39m0.0001\u001b[39m)\n\u001b[0;32m---> 21\u001b[0m train(net,\u001b[39m10\u001b[39m,train_data,test_data,loss,optimizer)\n",
      "Cell \u001b[0;32mIn[7], line 3\u001b[0m, in \u001b[0;36mtrain\u001b[0;34m(model, epoch, train_data, test_data, loss, optimizer)\u001b[0m\n\u001b[1;32m      2\u001b[0m \u001b[39mdef\u001b[39;00m \u001b[39mtrain\u001b[39m(model,epoch,train_data,test_data,loss,optimizer):\n\u001b[0;32m----> 3\u001b[0m     train_data\u001b[39m.\u001b[39mcuda()\n\u001b[1;32m      4\u001b[0m     test_data\u001b[39m.\u001b[39mcuda()\n\u001b[1;32m      5\u001b[0m     \u001b[39mfor\u001b[39;00m i \u001b[39min\u001b[39;00m \u001b[39mrange\u001b[39m(epoch):\n",
      "\u001b[0;31mAttributeError\u001b[0m: 'DataLoader' object has no attribute 'cuda'"
     ]
    }
   ],
   "source": [
    "net.cuda()\n",
    "def train(model,epoch,train_data,test_data,loss,optimizer):\n",
    "    train_data.cuda()\n",
    "    test_data.cuda()\n",
    "    for i in range(epoch):\n",
    "        train_loss,train_acc,test_acc=0.0,0.0,0.0\n",
    "        for X,y in train_data:\n",
    "            optimizer.zero_grad()\n",
    "            y_hat=model(X)\n",
    "            l=loss(y_hat,y)\n",
    "            l.backward()\n",
    "            optimizer.step()\n",
    "            train_loss+=l.item()\n",
    "            train_acc+=(y_hat.argmax(dim=1)==y).sum().item()\n",
    "        for X,y in test_data:\n",
    "            test_acc+=(model(X).argmax(dim=1)==y).sum().item()\n",
    "        print('epoch %d, loss %.4f, train acc %.3f, test acc %.3f'%(i+1,train_loss/len(train_data),train_acc/len(train_data.dataset),test_acc/len(test_data.dataset)))\n",
    "           \n",
    "loss=nn.CrossEntropyLoss()\n",
    "optimizer=torch.optim.Adam(net.parameters(),lr=0.0001)\n",
    "train(net,10,train_data,test_data,loss,optimizer)"
   ]
  }
 ],
 "metadata": {
  "kernelspec": {
   "display_name": "Python 3",
   "language": "python",
   "name": "python3"
  },
  "language_info": {
   "codemirror_mode": {
    "name": "ipython",
    "version": 3
   },
   "file_extension": ".py",
   "mimetype": "text/x-python",
   "name": "python",
   "nbconvert_exporter": "python",
   "pygments_lexer": "ipython3",
   "version": "3.11.3"
  },
  "orig_nbformat": 4
 },
 "nbformat": 4,
 "nbformat_minor": 2
}
